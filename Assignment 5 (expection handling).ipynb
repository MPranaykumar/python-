{
 "cells": [
  {
   "cell_type": "code",
   "execution_count": 5,
   "id": "4de9fd1c",
   "metadata": {},
   "outputs": [
    {
     "name": "stdout",
     "output_type": "stream",
     "text": [
      "exeption caught\n"
     ]
    }
   ],
   "source": [
    "def divide():\n",
    "    return 5/0\n",
    "\n",
    "try:\n",
    "    divide()\n",
    "except ZeroDivisionError as ze:\n",
    "    print('exeption caught')\n",
    "    \n",
    "except:\n",
    "    print('Any other exceptions')\n",
    "\n"
   ]
  },
  {
   "cell_type": "code",
   "execution_count": 6,
   "id": "0abc9d38",
   "metadata": {},
   "outputs": [
    {
     "name": "stdout",
     "output_type": "stream",
     "text": [
      "Americans plays baseball \n",
      "Americans plays cricket \n",
      "Americans watch baseball \n",
      "Americans watch cricket \n",
      "indians plays baseball \n",
      "indians plays cricket \n",
      "indians watch baseball \n",
      "indians watch cricket \n"
     ]
    }
   ],
   "source": [
    "subjects=['Americans ','indians ']\n",
    "verbs=['plays ','watch ']\n",
    "objects=['baseball ','cricket ']\n",
    "for S in subjects:\n",
    "    for V in verbs:\n",
    "        for O in objects:\n",
    "            sentence=S+V+O\n",
    "            print(sentence)"
   ]
  },
  {
   "cell_type": "code",
   "execution_count": null,
   "id": "f6b4f579",
   "metadata": {},
   "outputs": [],
   "source": []
  }
 ],
 "metadata": {
  "kernelspec": {
   "display_name": "Python 3 (ipykernel)",
   "language": "python",
   "name": "python3"
  },
  "language_info": {
   "codemirror_mode": {
    "name": "ipython",
    "version": 3
   },
   "file_extension": ".py",
   "mimetype": "text/x-python",
   "name": "python",
   "nbconvert_exporter": "python",
   "pygments_lexer": "ipython3",
   "version": "3.9.7"
  }
 },
 "nbformat": 4,
 "nbformat_minor": 5
}
